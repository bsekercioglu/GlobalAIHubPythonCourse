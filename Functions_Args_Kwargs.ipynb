{
  "nbformat": 4,
  "nbformat_minor": 0,
  "metadata": {
    "colab": {
      "name": "Functions-Args-Kwargs.ipynb",
      "provenance": [],
      "authorship_tag": "ABX9TyO3n10nzyuEJiVO5S2WRTDZ",
      "include_colab_link": true
    },
    "kernelspec": {
      "name": "python3",
      "display_name": "Python 3"
    }
  },
  "cells": [
    {
      "cell_type": "markdown",
      "metadata": {
        "id": "view-in-github",
        "colab_type": "text"
      },
      "source": [
        "<a href=\"https://colab.research.google.com/github/bsekercioglu/GlobalAIHubPythonCourse/blob/main/Functions_Args_Kwargs.ipynb\" target=\"_parent\"><img src=\"https://colab.research.google.com/assets/colab-badge.svg\" alt=\"Open In Colab\"/></a>"
      ]
    },
    {
      "cell_type": "code",
      "metadata": {
        "colab": {
          "base_uri": "https://localhost:8080/"
        },
        "id": "wpLHy14JXkpg",
        "outputId": "90c0ad14-1fcf-4260-b59e-65593703a222"
      },
      "source": [
        "#Fonksiyonlara Örnek\r\n",
        "#Klavyeden girilen sayının n. kuvvetten kökünü alır.\r\n",
        "sayi=float(input(\"Sayıyı giriniz:\"))\r\n",
        "kuvvet=int(input(\"Kuvvet ?:\"))\r\n",
        "def kok(s,k):\r\n",
        "  return (s**(1/k))\r\n",
        "print (kok(sayi,kuvvet))"
      ],
      "execution_count": 3,
      "outputs": [
        {
          "output_type": "stream",
          "text": [
            "Sayıyı giriniz:5\n",
            "Kuvvet ?:2\n",
            "2.23606797749979\n"
          ],
          "name": "stdout"
        }
      ]
    },
    {
      "cell_type": "code",
      "metadata": {
        "colab": {
          "base_uri": "https://localhost:8080/"
        },
        "id": "ChMWB7_yZ5lg",
        "outputId": "dbf2d78e-de2c-4ed8-80fb-cfdc1e39e1b2"
      },
      "source": [
        "#Tek yıldızlı args verileri TUPLE olarak döner. \r\n",
        "#Sınırsız sayıda parametreli fonksiyon oluşturmak için parametremizin önüne TEK yıldız(*) koyabiliriz.\r\n",
        "def multp(*args):\r\n",
        "    result = 1\r\n",
        "    for i in args:\r\n",
        "        result *= i\r\n",
        "        print(result) #diziden gelen her sayıyı önceki sayı ile çarp ve result değerine aktar\r\n",
        "multp(1,2,3,4,5,6,7,8,9)"
      ],
      "execution_count": 8,
      "outputs": [
        {
          "output_type": "stream",
          "text": [
            "1\n",
            "2\n",
            "6\n",
            "24\n",
            "120\n",
            "720\n",
            "5040\n",
            "40320\n",
            "362880\n"
          ],
          "name": "stdout"
        }
      ]
    },
    {
      "cell_type": "code",
      "metadata": {
        "colab": {
          "base_uri": "https://localhost:8080/"
        },
        "id": "JSsxQHSbcoMZ",
        "outputId": "17984be8-b933-4d6c-ff75-b84b547022ee"
      },
      "source": [
        "#Çift yıldızlı kwargs verileri DICTIONARY olarak döner.\r\n",
        "#Sınırsız sayıda parametreli fonksiyon oluşturmak için parametremizin önüne ÇİFT yıldız(**) koyabiliriz.\r\n",
        "def multp(**k):\r\n",
        "    result = 1\r\n",
        "    for key,value in k.items():\r\n",
        "        result *= value\r\n",
        "        print(result) #diziden gelen her sayıyı önceki sayı ile çarp ve result değerine aktar\r\n",
        "multp(deger1=1,deger2=2,deger3=3,deger4=4,deger5=5)"
      ],
      "execution_count": 13,
      "outputs": [
        {
          "output_type": "stream",
          "text": [
            "1\n",
            "2\n",
            "6\n",
            "24\n",
            "120\n"
          ],
          "name": "stdout"
        }
      ]
    }
  ]
}