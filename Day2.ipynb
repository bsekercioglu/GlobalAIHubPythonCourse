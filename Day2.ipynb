{
  "nbformat": 4,
  "nbformat_minor": 0,
  "metadata": {
    "colab": {
      "name": "Day2.ipynb",
      "provenance": [],
      "authorship_tag": "ABX9TyPdrVZH7RPWC3x63StR18a5",
      "include_colab_link": true
    },
    "kernelspec": {
      "name": "python3",
      "display_name": "Python 3"
    }
  },
  "cells": [
    {
      "cell_type": "markdown",
      "metadata": {
        "id": "view-in-github",
        "colab_type": "text"
      },
      "source": [
        "<a href=\"https://colab.research.google.com/github/bsekercioglu/GlobalAIHubPythonCourse/blob/main/Day2.ipynb\" target=\"_parent\"><img src=\"https://colab.research.google.com/assets/colab-badge.svg\" alt=\"Open In Colab\"/></a>"
      ]
    },
    {
      "cell_type": "code",
      "metadata": {
        "id": "8atWtEG54Ocn",
        "colab": {
          "base_uri": "https://localhost:8080/"
        },
        "outputId": "9f5e882e-db1f-4d67-a355-ad898f5dc1e7"
      },
      "source": [
        "salary = float(input(\"Lütfen gelirinizi yazınız\"))\r\n",
        "if salary<0:\r\n",
        "    print (\"Hatalı değer\")\r\n",
        "else:\r\n",
        "    if 0<salary<=1000:\r\n",
        "      salary=salary + (salary * 0.15)\r\n",
        "    elif salary <=2000:\r\n",
        "      salary=salary + (salary * 0.1)\r\n",
        "    elif salary <=3000:\r\n",
        "      salary=salary + (salary * 0.05)\r\n",
        "    else:\r\n",
        "      salary=salary + (salary * 0.025)\r\n",
        "    print(\"Kazancınız:\",salary)"
      ],
      "execution_count": 7,
      "outputs": [
        {
          "output_type": "stream",
          "text": [
            "Lütfen gelirinizi yazınız10000\n",
            "Kazancınız: 10250.0\n"
          ],
          "name": "stdout"
        }
      ]
    },
    {
      "cell_type": "code",
      "metadata": {
        "colab": {
          "base_uri": "https://localhost:8080/"
        },
        "id": "AzfNXOwjBT9C",
        "outputId": "dcc076fe-2b53-4db5-8ca8-8556825ae1c3"
      },
      "source": [
        "t = [1,2,3,4,5,6]\r\n",
        "i = 0 #counter value\r\n",
        "\r\n",
        "while (i < len(t)):\r\n",
        "  #i+=1\r\n",
        "    print(i, \". değer: \", t[i])\r\n",
        "    i+=1\r\n"
      ],
      "execution_count": 10,
      "outputs": [
        {
          "output_type": "stream",
          "text": [
            "0 . değer:  1\n",
            "1 . değer:  2\n",
            "2 . değer:  3\n",
            "3 . değer:  4\n",
            "4 . değer:  5\n",
            "5 . değer:  6\n"
          ],
          "name": "stdout"
        }
      ]
    },
    {
      "cell_type": "code",
      "metadata": {
        "colab": {
          "base_uri": "https://localhost:8080/"
        },
        "id": "1opZEQamCQAy",
        "outputId": "a7c83f1a-a89a-4f99-8537-8c08c9d9a6c9"
      },
      "source": [
        "nums = list(range(8)) #0 dan 8 kadar sayıları listeye al\r\n",
        "print(nums) #listeyi yazdır\r\n",
        "squares = [i**2 for i in nums] #nums listesindeki her sayının karesini al\r\n",
        "print(squares) #karesi alınan sayıları ekrana  yazdır\r\n"
      ],
      "execution_count": 12,
      "outputs": [
        {
          "output_type": "stream",
          "text": [
            "[0, 1, 2, 3, 4, 5, 6, 7]\n",
            "[0, 1, 4, 9, 16, 25, 36, 49]\n"
          ],
          "name": "stdout"
        }
      ]
    }
  ]
}