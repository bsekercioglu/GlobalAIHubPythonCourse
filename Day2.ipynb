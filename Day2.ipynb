{
  "nbformat": 4,
  "nbformat_minor": 0,
  "metadata": {
    "colab": {
      "name": "Day2.ipynb",
      "provenance": [],
      "authorship_tag": "ABX9TyObn0z5E20KR2ZMr5hMiKuK",
      "include_colab_link": true
    },
    "kernelspec": {
      "name": "python3",
      "display_name": "Python 3"
    }
  },
  "cells": [
    {
      "cell_type": "markdown",
      "metadata": {
        "id": "view-in-github",
        "colab_type": "text"
      },
      "source": [
        "<a href=\"https://colab.research.google.com/github/bsekercioglu/GlobalAIHubPythonCourse/blob/main/Day2.ipynb\" target=\"_parent\"><img src=\"https://colab.research.google.com/assets/colab-badge.svg\" alt=\"Open In Colab\"/></a>"
      ]
    },
    {
      "cell_type": "code",
      "metadata": {
        "id": "8atWtEG54Ocn",
        "colab": {
          "base_uri": "https://localhost:8080/"
        },
        "outputId": "9f5e882e-db1f-4d67-a355-ad898f5dc1e7"
      },
      "source": [
        "salary = float(input(\"Lütfen gelirinizi yazınız\"))\r\n",
        "if salary<0:\r\n",
        "    print (\"Hatalı değer\")\r\n",
        "else:\r\n",
        "    if 0<salary<=1000:\r\n",
        "      salary=salary + (salary * 0.15)\r\n",
        "    elif salary <=2000:\r\n",
        "      salary=salary + (salary * 0.1)\r\n",
        "    elif salary <=3000:\r\n",
        "      salary=salary + (salary * 0.05)\r\n",
        "    else:\r\n",
        "      salary=salary + (salary * 0.025)\r\n",
        "    print(\"Kazancınız:\",salary)"
      ],
      "execution_count": 7,
      "outputs": [
        {
          "output_type": "stream",
          "text": [
            "Lütfen gelirinizi yazınız10000\n",
            "Kazancınız: 10250.0\n"
          ],
          "name": "stdout"
        }
      ]
    }
  ]
}