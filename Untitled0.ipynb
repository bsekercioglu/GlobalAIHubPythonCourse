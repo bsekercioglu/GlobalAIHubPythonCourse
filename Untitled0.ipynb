{
  "nbformat": 4,
  "nbformat_minor": 0,
  "metadata": {
    "colab": {
      "name": "Untitled0.ipynb",
      "provenance": [],
      "collapsed_sections": [],
      "authorship_tag": "ABX9TyNQvjaJbubRP/F0v5r4joPs",
      "include_colab_link": true
    },
    "kernelspec": {
      "name": "python3",
      "display_name": "Python 3"
    }
  },
  "cells": [
    {
      "cell_type": "markdown",
      "metadata": {
        "id": "view-in-github",
        "colab_type": "text"
      },
      "source": [
        "<a href=\"https://colab.research.google.com/github/bsekercioglu/GlobalAIHubPythonCourse/blob/main/Untitled0.ipynb\" target=\"_parent\"><img src=\"https://colab.research.google.com/assets/colab-badge.svg\" alt=\"Open In Colab\"/></a>"
      ]
    },
    {
      "cell_type": "code",
      "metadata": {
        "colab": {
          "base_uri": "https://localhost:8080/"
        },
        "id": "2t_U-Mrs4sWX",
        "outputId": "6cb903a0-ef7e-4bcb-c4d3-e8db10e2e554"
      },
      "source": [
        "x = 10\r\n",
        "\r\n",
        "print(x+2)\r\n",
        "print(x-2)\r\n",
        "print(x*2)\r\n",
        "print(x**2)\r\n",
        "print(x**4)\r\n",
        "print(x/2)\r\n",
        "print(x//2) \r\n",
        "print(x%2)"
      ],
      "execution_count": null,
      "outputs": [
        {
          "output_type": "stream",
          "text": [
            "12\n",
            "8\n",
            "20\n",
            "100\n",
            "10000\n",
            "5.0\n",
            "5\n",
            "0\n"
          ],
          "name": "stdout"
        }
      ]
    },
    {
      "cell_type": "code",
      "metadata": {
        "colab": {
          "base_uri": "https://localhost:8080/"
        },
        "id": "JksPVL0r5SJf",
        "outputId": "0c23eae6-ef4c-4a30-bb59-644d1dd8e8c8"
      },
      "source": [
        "z = 5\r\n",
        "z+=1 \r\n",
        "z"
      ],
      "execution_count": null,
      "outputs": [
        {
          "output_type": "execute_result",
          "data": {
            "text/plain": [
              "6"
            ]
          },
          "metadata": {
            "tags": []
          },
          "execution_count": 7
        }
      ]
    },
    {
      "cell_type": "code",
      "metadata": {
        "colab": {
          "base_uri": "https://localhost:8080/"
        },
        "id": "n1SOVn3P5eMi",
        "outputId": "63b8f5c5-142b-4e85-889d-65bbe81255aa"
      },
      "source": [
        "z+=1\r\n",
        "z\r\n"
      ],
      "execution_count": null,
      "outputs": [
        {
          "output_type": "execute_result",
          "data": {
            "text/plain": [
              "12"
            ]
          },
          "metadata": {
            "tags": []
          },
          "execution_count": 13
        }
      ]
    },
    {
      "cell_type": "code",
      "metadata": {
        "colab": {
          "base_uri": "https://localhost:8080/"
        },
        "id": "TyKdh3kt5sWx",
        "outputId": "ecd75d95-0f06-4327-f375-293586d9d42d"
      },
      "source": [
        "data12 = 5\r\n",
        "data13 = 90\r\n",
        "print(\"My values:{0},{1} and Your value:{0}\".format(data12, data13))\r\n",
        "print(\"My value:\" + str(data12) + \"Your Value:\" + str(data13))\r\n"
      ],
      "execution_count": 1,
      "outputs": [
        {
          "output_type": "stream",
          "text": [
            "My values:5,90 and Your value:5\n",
            "My value:5Your Value:90\n"
          ],
          "name": "stdout"
        }
      ]
    },
    {
      "cell_type": "code",
      "metadata": {
        "colab": {
          "base_uri": "https://localhost:8080/"
        },
        "id": "yfR-gQYa9FvQ",
        "outputId": "4deaa4f3-9b3f-4c3a-e6ce-3f4baf27552c"
      },
      "source": [
        "world=\"İstanbul\"\r\n",
        "print (world [0:7:2])\r\n"
      ],
      "execution_count": null,
      "outputs": [
        {
          "output_type": "stream",
          "text": [
            "İtnu\n"
          ],
          "name": "stdout"
        }
      ]
    },
    {
      "cell_type": "code",
      "metadata": {
        "colab": {
          "base_uri": "https://localhost:8080/"
        },
        "id": "pqYfmEX3hYGK",
        "outputId": "977e0a66-a287-4b89-c850-ae9a7a3132da"
      },
      "source": [
        "for x in \"Burak ŞEKERCİOĞLU\":\r\n",
        "    print(x)"
      ],
      "execution_count": 3,
      "outputs": [
        {
          "output_type": "stream",
          "text": [
            "B\n",
            "u\n",
            "r\n",
            "a\n",
            "k\n",
            " \n",
            "Ş\n",
            "E\n",
            "K\n",
            "E\n",
            "R\n",
            "C\n",
            "İ\n",
            "O\n",
            "Ğ\n",
            "L\n",
            "U\n"
          ],
          "name": "stdout"
        }
      ]
    },
    {
      "cell_type": "markdown",
      "metadata": {
        "id": "hSI36UZEhgMt"
      },
      "source": [
        ""
      ]
    },
    {
      "cell_type": "code",
      "metadata": {
        "colab": {
          "base_uri": "https://localhost:8080/"
        },
        "id": "FfZe1Qnvhg3p",
        "outputId": "74d348d7-6924-4933-9e6f-7aac72611993"
      },
      "source": [
        "txt = \"Mevcut bir cümle içerisinde arama yapabiliriz\"\r\n",
        "print(\"bir\" in txt)\r\n",
        "print(\"cüm\" not in txt) #txt içeriğinde cüm yer almıyorsa TRUE olur"
      ],
      "execution_count": 7,
      "outputs": [
        {
          "output_type": "stream",
          "text": [
            "True\n",
            "False\n"
          ],
          "name": "stdout"
        }
      ]
    },
    {
      "cell_type": "code",
      "metadata": {
        "colab": {
          "base_uri": "https://localhost:8080/"
        },
        "id": "l6PSHH4JiGJ2",
        "outputId": "2d85e29d-4114-4b29-fdcd-5b8a93415bc5"
      },
      "source": [
        "b = \"Merhaba Dünyalı\"\r\n",
        "print(b[-5:-2]) #- ifadesi olduğundan cümle sonundan başlar sondan BEŞİNCİ karakterden (\"n\") Sondan İKİNCİ karaktere (\"l\") kadar olan kısmı alır."
      ],
      "execution_count": 10,
      "outputs": [
        {
          "output_type": "stream",
          "text": [
            "nya\n"
          ],
          "name": "stdout"
        }
      ]
    }
  ]
}