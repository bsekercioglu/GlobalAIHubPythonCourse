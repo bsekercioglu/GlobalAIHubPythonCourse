{
  "nbformat": 4,
  "nbformat_minor": 0,
  "metadata": {
    "colab": {
      "name": "Untitled0.ipynb",
      "provenance": [],
      "collapsed_sections": [],
      "authorship_tag": "ABX9TyPo0MFnv9Aoj5PO3q860k6Q",
      "include_colab_link": true
    },
    "kernelspec": {
      "name": "python3",
      "display_name": "Python 3"
    }
  },
  "cells": [
    {
      "cell_type": "markdown",
      "metadata": {
        "id": "view-in-github",
        "colab_type": "text"
      },
      "source": [
        "<a href=\"https://colab.research.google.com/github/bsekercioglu/GlobalAIHubPythonCourse/blob/main/Untitled0.ipynb\" target=\"_parent\"><img src=\"https://colab.research.google.com/assets/colab-badge.svg\" alt=\"Open In Colab\"/></a>"
      ]
    },
    {
      "cell_type": "code",
      "metadata": {
        "colab": {
          "base_uri": "https://localhost:8080/"
        },
        "id": "2t_U-Mrs4sWX",
        "outputId": "6cb903a0-ef7e-4bcb-c4d3-e8db10e2e554"
      },
      "source": [
        "x = 10\r\n",
        "\r\n",
        "print(x+2)\r\n",
        "print(x-2)\r\n",
        "print(x*2)\r\n",
        "print(x**2)\r\n",
        "print(x**4)\r\n",
        "print(x/2)\r\n",
        "print(x//2) \r\n",
        "print(x%2)"
      ],
      "execution_count": null,
      "outputs": [
        {
          "output_type": "stream",
          "text": [
            "12\n",
            "8\n",
            "20\n",
            "100\n",
            "10000\n",
            "5.0\n",
            "5\n",
            "0\n"
          ],
          "name": "stdout"
        }
      ]
    },
    {
      "cell_type": "code",
      "metadata": {
        "colab": {
          "base_uri": "https://localhost:8080/"
        },
        "id": "JksPVL0r5SJf",
        "outputId": "0c23eae6-ef4c-4a30-bb59-644d1dd8e8c8"
      },
      "source": [
        "z = 5\r\n",
        "z+=1 \r\n",
        "z"
      ],
      "execution_count": null,
      "outputs": [
        {
          "output_type": "execute_result",
          "data": {
            "text/plain": [
              "6"
            ]
          },
          "metadata": {
            "tags": []
          },
          "execution_count": 7
        }
      ]
    },
    {
      "cell_type": "code",
      "metadata": {
        "colab": {
          "base_uri": "https://localhost:8080/"
        },
        "id": "n1SOVn3P5eMi",
        "outputId": "63b8f5c5-142b-4e85-889d-65bbe81255aa"
      },
      "source": [
        "z+=1\r\n",
        "z\r\n"
      ],
      "execution_count": null,
      "outputs": [
        {
          "output_type": "execute_result",
          "data": {
            "text/plain": [
              "12"
            ]
          },
          "metadata": {
            "tags": []
          },
          "execution_count": 13
        }
      ]
    },
    {
      "cell_type": "code",
      "metadata": {
        "colab": {
          "base_uri": "https://localhost:8080/"
        },
        "id": "TyKdh3kt5sWx",
        "outputId": "ecd75d95-0f06-4327-f375-293586d9d42d"
      },
      "source": [
        "data12 = 5\r\n",
        "data13 = 90\r\n",
        "print(\"My values:{0},{1} and Your value:{0}\".format(data12, data13))\r\n",
        "print(\"My value:\" + str(data12) + \"Your Value:\" + str(data13))\r\n"
      ],
      "execution_count": 1,
      "outputs": [
        {
          "output_type": "stream",
          "text": [
            "My values:5,90 and Your value:5\n",
            "My value:5Your Value:90\n"
          ],
          "name": "stdout"
        }
      ]
    },
    {
      "cell_type": "code",
      "metadata": {
        "colab": {
          "base_uri": "https://localhost:8080/"
        },
        "id": "yfR-gQYa9FvQ",
        "outputId": "4deaa4f3-9b3f-4c3a-e6ce-3f4baf27552c"
      },
      "source": [
        "world=\"İstanbul\"\r\n",
        "print (world [0:7:2])\r\n"
      ],
      "execution_count": null,
      "outputs": [
        {
          "output_type": "stream",
          "text": [
            "İtnu\n"
          ],
          "name": "stdout"
        }
      ]
    },
    {
      "cell_type": "code",
      "metadata": {
        "colab": {
          "base_uri": "https://localhost:8080/"
        },
        "id": "pqYfmEX3hYGK",
        "outputId": "977e0a66-a287-4b89-c850-ae9a7a3132da"
      },
      "source": [
        "for x in \"Burak ŞEKERCİOĞLU\":\r\n",
        "    print(x)"
      ],
      "execution_count": 3,
      "outputs": [
        {
          "output_type": "stream",
          "text": [
            "B\n",
            "u\n",
            "r\n",
            "a\n",
            "k\n",
            " \n",
            "Ş\n",
            "E\n",
            "K\n",
            "E\n",
            "R\n",
            "C\n",
            "İ\n",
            "O\n",
            "Ğ\n",
            "L\n",
            "U\n"
          ],
          "name": "stdout"
        }
      ]
    },
    {
      "cell_type": "markdown",
      "metadata": {
        "id": "hSI36UZEhgMt"
      },
      "source": [
        ""
      ]
    },
    {
      "cell_type": "code",
      "metadata": {
        "colab": {
          "base_uri": "https://localhost:8080/"
        },
        "id": "FfZe1Qnvhg3p",
        "outputId": "74d348d7-6924-4933-9e6f-7aac72611993"
      },
      "source": [
        "txt = \"Mevcut bir cümle içerisinde arama yapabiliriz\"\r\n",
        "print(\"bir\" in txt)\r\n",
        "print(\"cüm\" not in txt) #txt içeriğinde cüm yer almıyorsa TRUE olur"
      ],
      "execution_count": 7,
      "outputs": [
        {
          "output_type": "stream",
          "text": [
            "True\n",
            "False\n"
          ],
          "name": "stdout"
        }
      ]
    },
    {
      "cell_type": "code",
      "metadata": {
        "colab": {
          "base_uri": "https://localhost:8080/"
        },
        "id": "1d-LTpFujCpO",
        "outputId": "68a496f9-887a-4aef-efc0-f9ebeece4383"
      },
      "source": [
        "#String Örneklerimiz\r\n",
        "kelime=\"Merhaba Dünyalı\"\r\n",
        "print(kelime[::-1]) #Kelimeyi tersten yazdırır\r\n",
        "print (kelime[0:5]) #Kelimeyi indis 0 dan 5 kadar olan kısmı yazar\r\n",
        "print (kelime[1:9:2]) #Kelimeyi indis 1 den 9 kadar 2şer atlamalı alır\r\n",
        "print (kelime[-5:]) #Sondan 5. karakterden cümle sonuna kadar olan kısmı al.\r\n",
        "print (kelime[-5::2]) #Sondan 5. karakterden cümle sonuna kadar olan kısmı 2 atlayarak al.\r\n"
      ],
      "execution_count": 34,
      "outputs": [
        {
          "output_type": "stream",
          "text": [
            "ılaynüD abahreM\n",
            "Merha\n",
            "ehb \n",
            "nyalı\n",
            "naı\n"
          ],
          "name": "stdout"
        }
      ]
    },
    {
      "cell_type": "code",
      "metadata": {
        "colab": {
          "base_uri": "https://localhost:8080/"
        },
        "id": "GvwL1kmVBzH0",
        "outputId": "b71d5699-8518-47b9-f6ce-bb8c3d9fb69e"
      },
      "source": [
        "a=\"Burak\"\r\n",
        "b=\"Şekercioğlu\"\r\n",
        "print(f'Ad:\"{a}\", Soyad:\"{b}\"') #Formatlanmış şekilde mesaj yazdırmak için\r\n",
        "print('Ad:\"{0}\", Soyad:\"{1}\"'.format(a,b))\r\n",
        "print('Ad:\"{0}\", ad:\"{0}\"'.format(a,b))\r\n",
        "print('Ad:\"{}\", Soyad:\"{}\"'.format(a,b))"
      ],
      "execution_count": 47,
      "outputs": [
        {
          "output_type": "stream",
          "text": [
            "Ad:\"Burak\", Soyad:\"Şekercioğlu\"\n",
            "Ad:\"Burak\", Soyad:\"Şekercioğlu\"\n",
            "Ad:\"Burak\", ad:\"Burak\"\n",
            "Ad:\"Burak\", Soyad:\"Şekercioğlu\"\n"
          ],
          "name": "stdout"
        }
      ]
    },
    {
      "cell_type": "code",
      "metadata": {
        "colab": {
          "base_uri": "https://localhost:8080/"
        },
        "id": "kl3JedK_uPc6",
        "outputId": "1c941339-e9a8-4f2b-e373-0e08a03d51f3"
      },
      "source": [
        "kelime=\"Burak ŞekerciOğlu\"\r\n",
        "print(kelime.swapcase()) #Kelime içeriğindeki büyük küçük harfleri tersine çevirir\r\n",
        "print(kelime.upper()) #Kelime içeriğinin tamamını büyük harf yapar\r\n",
        "print (kelime.capitalize()) #Kelime içeriğinin ilk harfini büyük, gerisini küçük yapar\r\n"
      ],
      "execution_count": 36,
      "outputs": [
        {
          "output_type": "stream",
          "text": [
            "bURAK şEKERCIoĞLU\n",
            "BURAK ŞEKERCIOĞLU\n",
            "Burak şekercioğlu\n"
          ],
          "name": "stdout"
        }
      ]
    },
    {
      "cell_type": "code",
      "metadata": {
        "colab": {
          "base_uri": "https://localhost:8080/"
        },
        "id": "l6PSHH4JiGJ2",
        "outputId": "2d85e29d-4114-4b29-fdcd-5b8a93415bc5"
      },
      "source": [
        "b = \"Merhaba Dünyalı\"\r\n",
        "print(b[-5:-2]) #- ifadesi olduğundan cümle sonundan başlar sondan BEŞİNCİ karakterden (\"n\") Sondan İKİNCİ karaktere (\"l\") kadar olan kısmı alır."
      ],
      "execution_count": 10,
      "outputs": [
        {
          "output_type": "stream",
          "text": [
            "nya\n"
          ],
          "name": "stdout"
        }
      ]
    },
    {
      "cell_type": "markdown",
      "metadata": {
        "id": "E0cNnsDsC9Dq"
      },
      "source": [
        "**Aritmetik İşlemler**"
      ]
    },
    {
      "cell_type": "code",
      "metadata": {
        "colab": {
          "base_uri": "https://localhost:8080/"
        },
        "id": "e4Oc6_s9DDkF",
        "outputId": "d14d5b38-9249-4300-9664-a1fa09299818"
      },
      "source": [
        "print(5**3) #5 sayısının 3. kuvvetini alır\r\n",
        "print(5**2) #5 sayısının Karesini alır\r\n",
        "print(\"hello\"*4) # hello yazısını 4 sefer yanyana yazar\r\n",
        "print(\"hello\\n\"*4) # \\n karakteri yeni satır anlamına geldiğinden hello yazısını 4 sefer altalta yazar"
      ],
      "execution_count": 55,
      "outputs": [
        {
          "output_type": "stream",
          "text": [
            "125\n",
            "25\n",
            "hellohellohellohello\n",
            "hello\n",
            "hello\n",
            "hello\n",
            "hello\n",
            "\n"
          ],
          "name": "stdout"
        }
      ]
    },
    {
      "cell_type": "code",
      "metadata": {
        "colab": {
          "base_uri": "https://localhost:8080/"
        },
        "id": "RGQQ1tkaDoqg",
        "outputId": "1d8b3c9a-1dba-45c6-8d7e-9f1f9321006d"
      },
      "source": [
        "y = 13\r\n",
        "print(y/2) #y değişkenindeki sayısı 2'ye böler. Çıkan sonuç tamsayı olmayabilir.\r\n",
        "print(y//2) #y değişkenindeki sayıyı 2'ye böler TAMSAYI kısmını alır.\r\n",
        "print(y % 2) #y değişkenindeki sayının 2'ye göre MODUNU alır."
      ],
      "execution_count": 57,
      "outputs": [
        {
          "output_type": "stream",
          "text": [
            "6.5\n",
            "6\n",
            "1\n"
          ],
          "name": "stdout"
        }
      ]
    },
    {
      "cell_type": "code",
      "metadata": {
        "colab": {
          "base_uri": "https://localhost:8080/"
        },
        "id": "-Dcs7mSnEUvR",
        "outputId": "df1b99e6-9dc7-434f-f3f7-fae5172d492c"
      },
      "source": [
        "z = 5\r\n",
        "z+=1 # Z değişkenindeki sayıyı al BİR artır ve sonucu yine Z değişkenine yerleştir  \r\n",
        "print(z)\r\n",
        "z*=2      # z = z * 2, z= 6*2 olur\r\n",
        "z/=2  #z=z/2, z=12/2 olur\r\n",
        "print(z)"
      ],
      "execution_count": 61,
      "outputs": [
        {
          "output_type": "stream",
          "text": [
            "6\n",
            "6.0\n"
          ],
          "name": "stdout"
        }
      ]
    }
  ]
}